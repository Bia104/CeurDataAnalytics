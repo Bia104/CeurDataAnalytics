{
 "cells": [
  {
   "metadata": {
    "ExecuteTime": {
     "end_time": "2025-06-07T09:11:11.149955Z",
     "start_time": "2025-06-07T09:11:10.599030Z"
    }
   },
   "cell_type": "code",
   "source": [
    "from pymongo import MongoClient\n",
    "\n",
    "# Connect to MongoDB\n",
    "client = MongoClient('mongodb://localhost:27017/')\n",
    "db = client['ceur_ws_fix']\n",
    "papers = db['papers']\n",
    "print(f\"papers: {papers.count_documents({})}\")\n",
    "print(f\"volumes: {db['volumes'].count_documents({})}\")"
   ],
   "id": "64002707e4ee4491",
   "outputs": [
    {
     "name": "stdout",
     "output_type": "stream",
     "text": [
      "papers: 13589\n",
      "volumes: 773\n"
     ]
    }
   ],
   "execution_count": 179
  },
  {
   "cell_type": "markdown",
   "id": "37b3ff0725d6e500",
   "metadata": {},
   "source": [
    "We have to clear the dataset before migration to the neo4j database.\n",
    "malformed papers example:"
   ]
  },
  {
   "cell_type": "code",
   "id": "13566978f2daef61",
   "metadata": {
    "ExecuteTime": {
     "end_time": "2025-06-07T09:11:22.625877Z",
     "start_time": "2025-06-07T09:11:22.326155Z"
    }
   },
   "source": [
    "query_empty_paper_info = {\n",
    "    \"$or\": [\n",
    "        {\"paper_info.related_papers\": {\"$size\": 0}},\n",
    "        {\"paper_info.keywords\": {\"$size\": 0}},\n",
    "        {\"paper_info\": {\"$exists\": False}},\n",
    "        {\"paper_info\": None}\n",
    "    ]\n",
    "}\n",
    "papers.count_documents(query_empty_paper_info)"
   ],
   "outputs": [
    {
     "data": {
      "text/plain": [
       "1714"
      ]
     },
     "execution_count": 180,
     "metadata": {},
     "output_type": "execute_result"
    }
   ],
   "execution_count": 180
  },
  {
   "cell_type": "markdown",
   "id": "d12318b3561cd5f1",
   "metadata": {},
   "source": [
    "Delete malformed papaers"
   ]
  },
  {
   "cell_type": "code",
   "execution_count": 47,
   "id": "5e8cb2bcd8c8a80c",
   "metadata": {
    "ExecuteTime": {
     "end_time": "2025-06-06T21:43:40.569780Z",
     "start_time": "2025-06-06T21:43:39.544533Z"
    }
   },
   "outputs": [
    {
     "name": "stdout",
     "output_type": "stream",
     "text": [
      "12160\n"
     ]
    }
   ],
   "source": [
    "papers = db['papers']\n",
    "papers.delete_many(query_empty_paper_info)\n",
    "print(papers.count_documents({}))"
   ]
  },
  {
   "cell_type": "markdown",
   "id": "798117964d67a72a",
   "metadata": {},
   "source": [
    "Those are papers that contains at least one related paper without authors."
   ]
  },
  {
   "cell_type": "code",
   "execution_count": 61,
   "id": "c43f6768c2820d06",
   "metadata": {
    "ExecuteTime": {
     "end_time": "2025-06-06T21:19:07.222318Z",
     "start_time": "2025-06-06T21:19:07.176151Z"
    }
   },
   "outputs": [
    {
     "name": "stdout",
     "output_type": "stream",
     "text": [
      "11630\n"
     ]
    }
   ],
   "source": [
    "query = {\n",
    "    \"paper_info.related_papers\": {\n",
    "        \"$elemMatch\": {\n",
    "            \"authors\": { \"$size\": 0}\n",
    "        }\n",
    "    }\n",
    "}\n",
    "print(papers.count_documents(query))"
   ]
  },
  {
   "cell_type": "markdown",
   "id": "000c6ae5",
   "metadata": {},
   "source": [
    "Now we count how many related papers we have and how many have no authors."
   ]
  },
  {
   "cell_type": "code",
   "id": "cd1f27c9",
   "metadata": {
    "ExecuteTime": {
     "end_time": "2025-06-07T09:02:38.103520Z",
     "start_time": "2025-06-07T09:02:37.010278Z"
    }
   },
   "source": [
    "pipeline = [\n",
    "    {\"$match\": {\"paper_info.related_papers\": {\"$exists\": True, \"$ne\": None}}},\n",
    "    {\"$project\": {\n",
    "        \"related_papers\": \"$paper_info.related_papers\"\n",
    "    }},\n",
    "    {\"$unwind\": \"$related_papers\"},\n",
    "    {\"$group\": {\n",
    "        \"_id\": None,\n",
    "        \"total_related\": {\"$sum\": 1},\n",
    "        \"no_authors\": {\n",
    "            \"$sum\": {\n",
    "                \"$cond\": [\n",
    "        {\"$eq\": [{\"$size\": \"$related_papers.authors\"}, 0]},\n",
    "        1,\n",
    "        0\n",
    "    ]\n",
    "            }\n",
    "        }\n",
    "    }}\n",
    "]\n",
    "\n",
    "result = list(papers.aggregate(pipeline))[0]\n",
    "print(\"Total related_papers:\", result[\"total_related\"])\n",
    "print(\"Related_papers without authors:\", result[\"no_authors\"])\n",
    "print(\"Related_papers with authors:\", result[\"total_related\"] - result[\"no_authors\"])"
   ],
   "outputs": [
    {
     "name": "stdout",
     "output_type": "stream",
     "text": [
      "Total related_papers: 369096\n",
      "Related_papers without authors: 200929\n",
      "Related_papers with authors: 168167\n"
     ]
    }
   ],
   "execution_count": 178
  }
 ],
 "metadata": {
  "kernelspec": {
   "display_name": ".venv",
   "language": "python",
   "name": "python3"
  },
  "language_info": {
   "codemirror_mode": {
    "name": "ipython",
    "version": 3
   },
   "file_extension": ".py",
   "mimetype": "text/x-python",
   "name": "python",
   "nbconvert_exporter": "python",
   "pygments_lexer": "ipython3",
   "version": "3.13.3"
  }
 },
 "nbformat": 4,
 "nbformat_minor": 5
}
