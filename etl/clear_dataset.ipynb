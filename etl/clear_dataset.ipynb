{
 "cells": [
  {
   "metadata": {
    "ExecuteTime": {
     "end_time": "2025-07-08T16:28:55.614985Z",
     "start_time": "2025-07-08T16:28:54.608172Z"
    }
   },
   "cell_type": "code",
   "source": [
    "from pymongo import MongoClient\n",
    "\n",
    "# Connect to MongoDB\n",
    "client = MongoClient('mongodb://localhost:27017/')\n",
    "db = client['ceur_ws_fix']\n",
    "papers = db['papers']\n",
    "print(f\"papers: {papers.count_documents({})}\")\n",
    "print(f\"volumes: {db['volumes'].count_documents({})}\")"
   ],
   "id": "64002707e4ee4491",
   "outputs": [
    {
     "name": "stdout",
     "output_type": "stream",
     "text": [
      "papers: 19247\n",
      "volumes: 3008\n"
     ]
    }
   ],
   "execution_count": 2
  },
  {
   "cell_type": "markdown",
   "id": "37b3ff0725d6e500",
   "metadata": {},
   "source": [
    "We have to clear the dataset before migration to the neo4j database.\n",
    "Malformed papers example:"
   ]
  },
  {
   "cell_type": "code",
   "id": "13566978f2daef61",
   "metadata": {
    "ExecuteTime": {
     "end_time": "2025-06-10T19:33:08.875293Z",
     "start_time": "2025-06-10T19:33:08.819834Z"
    }
   },
   "source": [
    "query_empty_paper_info = {\n",
    "    \"$or\": [\n",
    "        {\"paper_info.related_papers\": {\"$size\": 0}},\n",
    "        {\"paper_info.keywords\": {\"$size\": 0}},\n",
    "        {\"paper_info\": {\"$exists\": False}},\n",
    "        {\"paper_info\": None}\n",
    "    ]\n",
    "}\n",
    "papers.count_documents(query_empty_paper_info)"
   ],
   "outputs": [
    {
     "data": {
      "text/plain": [
       "11351"
      ]
     },
     "execution_count": 3,
     "metadata": {},
     "output_type": "execute_result"
    }
   ],
   "execution_count": 3
  },
  {
   "cell_type": "markdown",
   "id": "d12318b3561cd5f1",
   "metadata": {},
   "source": "Delete malformed papers"
  },
  {
   "cell_type": "code",
   "id": "5e8cb2bcd8c8a80c",
   "metadata": {
    "ExecuteTime": {
     "end_time": "2025-06-10T19:33:12.088678Z",
     "start_time": "2025-06-10T19:33:11.951198Z"
    }
   },
   "source": [
    "papers = db['papers']\n",
    "papers.delete_many(query_empty_paper_info)\n",
    "print(papers.count_documents({}))"
   ],
   "outputs": [
    {
     "name": "stdout",
     "output_type": "stream",
     "text": [
      "19247\n"
     ]
    }
   ],
   "execution_count": 4
  },
  {
   "cell_type": "markdown",
   "id": "798117964d67a72a",
   "metadata": {},
   "source": "Those are papers that contain at least one related paper without authors."
  },
  {
   "cell_type": "code",
   "id": "c43f6768c2820d06",
   "metadata": {
    "ExecuteTime": {
     "end_time": "2025-06-10T10:48:20.253671Z",
     "start_time": "2025-06-10T10:48:20.208855Z"
    }
   },
   "source": [
    "query = {\n",
    "    \"paper_info.related_papers\": {\n",
    "        \"$elemMatch\": {\n",
    "            \"authors\": { \"$size\": 0}\n",
    "        }\n",
    "    }\n",
    "}\n",
    "print(papers.count_documents(query))"
   ],
   "outputs": [
    {
     "name": "stdout",
     "output_type": "stream",
     "text": [
      "26480\n"
     ]
    }
   ],
   "execution_count": 15
  },
  {
   "cell_type": "markdown",
   "id": "000c6ae5",
   "metadata": {},
   "source": [
    "Now we count how many related papers we have and how many have no authors."
   ]
  },
  {
   "cell_type": "code",
   "id": "cd1f27c9",
   "metadata": {
    "ExecuteTime": {
     "end_time": "2025-06-11T08:15:52.168195Z",
     "start_time": "2025-06-11T08:15:51.108832Z"
    }
   },
   "source": [
    "pipeline = [\n",
    "    {\"$match\": {\"paper_info.related_papers\": {\"$exists\": True, \"$ne\": None}}},\n",
    "    {\"$project\": {\n",
    "        \"related_papers\": \"$paper_info.related_papers\"\n",
    "    }},\n",
    "    {\"$unwind\": \"$related_papers\"},\n",
    "    {\"$group\": {\n",
    "        \"_id\": None,\n",
    "        \"total_related\": {\"$sum\": 1},\n",
    "        \"no_authors\": {\n",
    "            \"$sum\": {\n",
    "                \"$cond\": [\n",
    "        {\"$eq\": [{\"$size\": \"$related_papers.authors\"}, 0]},\n",
    "        1,\n",
    "        0\n",
    "    ]\n",
    "            }\n",
    "        }\n",
    "    }}\n",
    "]\n",
    "\n",
    "result = list(papers.aggregate(pipeline))[0]\n",
    "print(\"Total related_papers:\", result[\"total_related\"])\n",
    "print(\"Related_papers without authors:\", result[\"no_authors\"])\n",
    "print(\"Related_papers with authors:\", result[\"total_related\"] - result[\"no_authors\"])"
   ],
   "outputs": [
    {
     "name": "stdout",
     "output_type": "stream",
     "text": [
      "Total related_papers: 386407\n",
      "Related_papers without authors: 104366\n",
      "Related_papers with authors: 282041\n"
     ]
    }
   ],
   "execution_count": 6
  },
  {
   "metadata": {},
   "cell_type": "markdown",
   "source": "Number of parsing errors in the references",
   "id": "a05eff28ea355385"
  },
  {
   "metadata": {
    "ExecuteTime": {
     "end_time": "2025-06-10T10:48:31.998648Z",
     "start_time": "2025-06-10T10:48:30.574773Z"
    }
   },
   "cell_type": "code",
   "source": [
    "pipeline_ref_err = [\n",
    "    { \"$unwind\": \"$paper_info.related_papers\" },\n",
    "    { \"$match\": {\n",
    "        \"$expr\": {\n",
    "            \"$gt\": [ { \"$strLenCP\": \"$paper_info.related_papers.text\" }, 450 ]\n",
    "        }\n",
    "    }},\n",
    "    { \"$group\": { \"_id\": \"$_id\" } }\n",
    "]\n",
    "\n",
    "count = len(list(papers.aggregate(pipeline_ref_err)))\n",
    "print(f\"Faulty Papers: {count}\")"
   ],
   "id": "465ee9c435e49b1c",
   "outputs": [
    {
     "name": "stdout",
     "output_type": "stream",
     "text": [
      "Faulty Papers: 5981\n"
     ]
    }
   ],
   "execution_count": 17
  },
  {
   "metadata": {},
   "cell_type": "markdown",
   "source": "Updating Faulty Papers by Truncating Related Papers with Text Longer than 450 characters",
   "id": "7c4eaa5690036139"
  },
  {
   "metadata": {
    "ExecuteTime": {
     "end_time": "2025-06-10T16:17:00.296316Z",
     "start_time": "2025-06-10T16:16:59.449547Z"
    }
   },
   "cell_type": "code",
   "source": [
    "faulty_ids = [doc[\"_id\"] for doc in papers.aggregate(pipeline_ref_err)]\n",
    "\n",
    "for paper_id in faulty_ids:\n",
    "    doc = papers.find_one({ \"_id\": paper_id })\n",
    "    related = doc.get(\"paper_info\", {}).get(\"related_papers\", [])\n",
    "\n",
    "    cleaned = []\n",
    "    for rp in related:\n",
    "        if len(rp.get(\"text\", \"\")) < 450:\n",
    "            rp[\"text\"] = rp[\"text\"][:450]\n",
    "            cleaned.append(rp)\n",
    "\n",
    "    if len(cleaned) < len(related):\n",
    "        papers.update_one(\n",
    "            { \"_id\": paper_id },\n",
    "            { \"$set\": { \"paper_info.related_papers\": cleaned } }\n",
    "        )\n",
    "\n",
    "print(f\"Updated {len(faulty_ids)} papers.\")"
   ],
   "id": "d9d815558ba7d9b5",
   "outputs": [
    {
     "name": "stdout",
     "output_type": "stream",
     "text": [
      "Updated 0 papers.\n"
     ]
    }
   ],
   "execution_count": 30
  },
  {
   "metadata": {},
   "cell_type": "markdown",
   "source": "Searching for Errors in the References Indexes (Truncating Text and Having a new Element without Index)",
   "id": "81c55d4083203a77"
  },
  {
   "metadata": {
    "ExecuteTime": {
     "end_time": "2025-06-10T16:17:07.132099Z",
     "start_time": "2025-06-10T16:17:06.077779Z"
    }
   },
   "cell_type": "code",
   "source": [
    "pipeline_index_err = [\n",
    "  { \"$unwind\": \"$paper_info.related_papers\" },\n",
    "  { \"$match\": {\n",
    "      \"$expr\": {\n",
    "        \"$regexMatch\": {\n",
    "          \"input\": \"$paper_info.related_papers.text\",\n",
    "          \"regex\": \"^\\\\[\\\\d+\\\\]\"\n",
    "        }\n",
    "      }\n",
    "    }\n",
    "  },\n",
    "  { \"$group\": { \"_id\": \"$_id\" } }\n",
    "]\n",
    "\n",
    "count_index_err = len(list(papers.aggregate(pipeline_index_err)))\n",
    "print(f\"Faulty Papers: {count_index_err}\")"
   ],
   "id": "e28785fb1ba6d99b",
   "outputs": [
    {
     "name": "stdout",
     "output_type": "stream",
     "text": [
      "Faulty Papers: 8278\n"
     ]
    }
   ],
   "execution_count": 31
  },
  {
   "metadata": {},
   "cell_type": "markdown",
   "source": "Deleting the Index Error from the Related Papers",
   "id": "c54a2d506e8e4643"
  },
  {
   "metadata": {
    "ExecuteTime": {
     "end_time": "2025-06-10T16:17:33.760852Z",
     "start_time": "2025-06-10T16:17:26.529686Z"
    }
   },
   "cell_type": "code",
   "source": [
    "import re\n",
    "\n",
    "faulty_ids = [doc[\"_id\"] for doc in papers.aggregate(pipeline_index_err)]\n",
    "\n",
    "pattern = re.compile(\"^\\\\[\\\\d+\\\\]\")\n",
    "\n",
    "for paper_id in faulty_ids:\n",
    "    doc = papers.find_one({ \"_id\": paper_id })\n",
    "    related = doc.get(\"paper_info\", {}).get(\"related_papers\", [])\n",
    "\n",
    "    cleaned = []\n",
    "    for rp in related:\n",
    "        if pattern.match(rp[\"text\"]):\n",
    "            cleaned.append(rp)\n",
    "\n",
    "    if len(cleaned) != len(related):\n",
    "        papers.update_one(\n",
    "            { \"_id\": paper_id },\n",
    "            { \"$set\": { \"paper_info.related_papers\": cleaned } }\n",
    "        )\n",
    "\n",
    "print(f\"Updated {len(faulty_ids)} papers.\")"
   ],
   "id": "9ad52b184e7ea75f",
   "outputs": [
    {
     "name": "stdout",
     "output_type": "stream",
     "text": [
      "Updated 8278 papers.\n"
     ]
    }
   ],
   "execution_count": 32
  },
  {
   "metadata": {},
   "cell_type": "markdown",
   "source": "Searching for Related Papers found in many Papers → Given a Paper found how many Papers Cite It",
   "id": "59dea1e9a9517db1"
  },
  {
   "metadata": {
    "ExecuteTime": {
     "end_time": "2025-07-08T16:39:01.610094Z",
     "start_time": "2025-07-08T16:39:00.946686Z"
    }
   },
   "cell_type": "code",
   "source": [
    "targetTitle = \"Digital Twin\"\n",
    "\n",
    "pipeline = [\n",
    "  { \"$unwind\": \"$paper_info.related_papers\" },\n",
    "  {\n",
    "   \"$match\": {\n",
    "      \"paper_info.related_papers.text\": {\n",
    "        \"$regex\": targetTitle, \"$options\": \"i\"\n",
    "      }\n",
    "    }\n",
    "  },\n",
    "    { \"$group\": {\n",
    "        \"_id\": \"$_id\"\n",
    "    }}\n",
    "]\n",
    "\n",
    "result = list(papers.aggregate(pipeline))\n",
    "print(f\"Found {len(result)} papers citing '{targetTitle}'\")"
   ],
   "id": "f179fa44682b431",
   "outputs": [
    {
     "name": "stdout",
     "output_type": "stream",
     "text": [
      "Found 123 papers citing 'Digital Twin'\n"
     ]
    }
   ],
   "execution_count": 15
  },
  {
   "metadata": {},
   "cell_type": "markdown",
   "source": "Finding the Related Papers with Indented Title",
   "id": "d79a6dd3640176cc"
  },
  {
   "metadata": {
    "ExecuteTime": {
     "end_time": "2025-07-08T16:48:59.070743Z",
     "start_time": "2025-07-08T16:48:58.198041Z"
    }
   },
   "cell_type": "code",
   "source": [
    "pipeline_title_err = [\n",
    "  { \"$unwind\": \"$paper_info.related_papers\" },\n",
    "  { \"$match\": {\n",
    "      \"$expr\": {\n",
    "        \"$regexMatch\": {\n",
    "          \"input\": \"$paper_info.related_papers.title\",\n",
    "          \"regex\": \"^\\\\[\\\\d+\\\\]\"\n",
    "        }\n",
    "      }\n",
    "    }\n",
    "  },\n",
    "  { \"$group\": { \"_id\": \"$_id\" } }\n",
    "]\n",
    "\n",
    "count_title_err = len(list(papers.aggregate(pipeline_title_err)))\n",
    "print(f\"Faulty Papers: {count_title_err}\")"
   ],
   "id": "601e2be07f2fed06",
   "outputs": [
    {
     "name": "stdout",
     "output_type": "stream",
     "text": [
      "Faulty Papers: 5673\n"
     ]
    }
   ],
   "execution_count": 16
  },
  {
   "metadata": {},
   "cell_type": "markdown",
   "source": "Removing the Related Papers with Indented Title",
   "id": "29e64c43b3c86aa8"
  },
  {
   "metadata": {
    "ExecuteTime": {
     "end_time": "2025-07-08T16:51:09.068436Z",
     "start_time": "2025-07-08T16:51:04.983947Z"
    }
   },
   "cell_type": "code",
   "source": [
    "import re\n",
    "\n",
    "faulty_ids = [doc[\"_id\"] for doc in papers.aggregate(pipeline_title_err)]\n",
    "\n",
    "pattern = re.compile(\"^\\\\[\\\\d+\\\\]\")\n",
    "\n",
    "for paper_id in faulty_ids:\n",
    "    doc = papers.find_one({ \"_id\": paper_id })\n",
    "    related = doc.get(\"paper_info\", {}).get(\"related_papers\", [])\n",
    "\n",
    "    cleaned = []\n",
    "    for rp in related:\n",
    "        if not pattern.match(rp[\"title\"]):\n",
    "            cleaned.append(rp)\n",
    "\n",
    "    if len(cleaned) != len(related):\n",
    "        papers.update_one(\n",
    "            { \"_id\": paper_id },\n",
    "            { \"$set\": { \"paper_info.related_papers\": cleaned } }\n",
    "        )\n",
    "\n",
    "print(f\"Updated {len(faulty_ids)} papers.\")"
   ],
   "id": "32b3100a3a7657",
   "outputs": [
    {
     "name": "stdout",
     "output_type": "stream",
     "text": [
      "Updated 5673 papers.\n"
     ]
    }
   ],
   "execution_count": 18
  }
 ],
 "metadata": {
  "kernelspec": {
   "display_name": ".venv",
   "language": "python",
   "name": "python3"
  },
  "language_info": {
   "codemirror_mode": {
    "name": "ipython",
    "version": 3
   },
   "file_extension": ".py",
   "mimetype": "text/x-python",
   "name": "python",
   "nbconvert_exporter": "python",
   "pygments_lexer": "ipython3",
   "version": "3.13.3"
  }
 },
 "nbformat": 4,
 "nbformat_minor": 5
}
